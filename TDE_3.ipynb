{
  "nbformat": 4,
  "nbformat_minor": 0,
  "metadata": {
    "colab": {
      "provenance": [],
      "toc_visible": true,
      "authorship_tag": "ABX9TyM1UzbE92XwHSJ2TfpG4wW1",
      "include_colab_link": true
    },
    "kernelspec": {
      "name": "python3",
      "display_name": "Python 3"
    },
    "language_info": {
      "name": "python"
    }
  },
  "cells": [
    {
      "cell_type": "markdown",
      "metadata": {
        "id": "view-in-github",
        "colab_type": "text"
      },
      "source": [
        "<a href=\"https://colab.research.google.com/github/M4riot/M4riot-TDE3_AnaliseDeDados_TomadasDeDecisoes/blob/main/TDE_3.ipynb\" target=\"_parent\"><img src=\"https://colab.research.google.com/assets/colab-badge.svg\" alt=\"Open In Colab\"/></a>"
      ]
    },
    {
      "cell_type": "code",
      "execution_count": null,
      "metadata": {
        "id": "u5s_rPigIgly"
      },
      "outputs": [],
      "source": [
        "import pandas as pd"
      ]
    },
    {
      "cell_type": "code",
      "source": [
        "dados = pd.read_csv(\"natacao.csv\");\n",
        "dados"
      ],
      "metadata": {
        "colab": {
          "base_uri": "https://localhost:8080/",
          "height": 467
        },
        "id": "JAZ-GJUmJASN",
        "outputId": "2d5b9e3a-9353-4507-bb27-2834a3a67054"
      },
      "execution_count": null,
      "outputs": [
        {
          "output_type": "execute_result",
          "data": {
            "text/plain": [
              "           Sede   Ano Distancia  Estilo  Revesamento?     Genero Equipe  \\\n",
              "0         Tokyo  2020      100m  Costas             0  Masculino    ROC   \n",
              "1         Tokyo  2020      100m  Costas             0  Masculino    ROC   \n",
              "2         Tokyo  2020      100m  Costas             0  Masculino    USA   \n",
              "3         Tokyo  2020      100m  Costas             0  Masculino    ITA   \n",
              "4         Tokyo  2020      100m  Costas             0  Masculino    CHN   \n",
              "...         ...   ...       ...     ...           ...        ...    ...   \n",
              "4354  Stockholm  1912     4x100   Livre             1   Feminino    SWE   \n",
              "4355  Stockholm  1912     4x200   Livre             1  Masculino    AUS   \n",
              "4356  Stockholm  1912     4x200   Livre             1  Masculino    USA   \n",
              "4357  Stockholm  1912     4x200   Livre             1  Masculino    GBR   \n",
              "4358  Stockholm  1912     4x200   Livre             1  Masculino    GER   \n",
              "\n",
              "                                                 Atleta            Tempo  \\\n",
              "0                                          Evgeny Rylov            51.98   \n",
              "1                                    Kliment Kolesnikov               52   \n",
              "2                                           Ryan Murphy            52.19   \n",
              "3                                         Thomas Ceccon             52.3   \n",
              "4                                              Jiayu Xu            52.51   \n",
              "...                                                 ...              ...   \n",
              "4354  Greta Carlsson, Vera Thulin, Sonja Johnsson, G...              NaN   \n",
              "4355  Malcolm Champion, Cecil Healy, Harold H. Hardw...  00:10:11.200000   \n",
              "4356  Duke Paoa Kahanamoku, Harry J. Hebner, Perry M...  00:10:20.200000   \n",
              "4357  Thomas Sidney Battersby, Henry Taylor, John Ga...  00:10:28.600000   \n",
              "4358  Georg Kunisch, Kurt Bretting, Oscar Schiele, M...  00:10:37.000000   \n",
              "\n",
              "      Posicao  \n",
              "0           1  \n",
              "1           2  \n",
              "2           3  \n",
              "3           4  \n",
              "4           4  \n",
              "...       ...  \n",
              "4354        5  \n",
              "4355        1  \n",
              "4356        2  \n",
              "4357        3  \n",
              "4358        4  \n",
              "\n",
              "[4359 rows x 10 columns]"
            ],
            "text/html": [
              "\n",
              "  <div id=\"df-01f114d1-062b-4c50-ad72-45c0a804ec9d\">\n",
              "    <div class=\"colab-df-container\">\n",
              "      <div>\n",
              "<style scoped>\n",
              "    .dataframe tbody tr th:only-of-type {\n",
              "        vertical-align: middle;\n",
              "    }\n",
              "\n",
              "    .dataframe tbody tr th {\n",
              "        vertical-align: top;\n",
              "    }\n",
              "\n",
              "    .dataframe thead th {\n",
              "        text-align: right;\n",
              "    }\n",
              "</style>\n",
              "<table border=\"1\" class=\"dataframe\">\n",
              "  <thead>\n",
              "    <tr style=\"text-align: right;\">\n",
              "      <th></th>\n",
              "      <th>Sede</th>\n",
              "      <th>Ano</th>\n",
              "      <th>Distancia</th>\n",
              "      <th>Estilo</th>\n",
              "      <th>Revesamento?</th>\n",
              "      <th>Genero</th>\n",
              "      <th>Equipe</th>\n",
              "      <th>Atleta</th>\n",
              "      <th>Tempo</th>\n",
              "      <th>Posicao</th>\n",
              "    </tr>\n",
              "  </thead>\n",
              "  <tbody>\n",
              "    <tr>\n",
              "      <th>0</th>\n",
              "      <td>Tokyo</td>\n",
              "      <td>2020</td>\n",
              "      <td>100m</td>\n",
              "      <td>Costas</td>\n",
              "      <td>0</td>\n",
              "      <td>Masculino</td>\n",
              "      <td>ROC</td>\n",
              "      <td>Evgeny Rylov</td>\n",
              "      <td>51.98</td>\n",
              "      <td>1</td>\n",
              "    </tr>\n",
              "    <tr>\n",
              "      <th>1</th>\n",
              "      <td>Tokyo</td>\n",
              "      <td>2020</td>\n",
              "      <td>100m</td>\n",
              "      <td>Costas</td>\n",
              "      <td>0</td>\n",
              "      <td>Masculino</td>\n",
              "      <td>ROC</td>\n",
              "      <td>Kliment Kolesnikov</td>\n",
              "      <td>52</td>\n",
              "      <td>2</td>\n",
              "    </tr>\n",
              "    <tr>\n",
              "      <th>2</th>\n",
              "      <td>Tokyo</td>\n",
              "      <td>2020</td>\n",
              "      <td>100m</td>\n",
              "      <td>Costas</td>\n",
              "      <td>0</td>\n",
              "      <td>Masculino</td>\n",
              "      <td>USA</td>\n",
              "      <td>Ryan Murphy</td>\n",
              "      <td>52.19</td>\n",
              "      <td>3</td>\n",
              "    </tr>\n",
              "    <tr>\n",
              "      <th>3</th>\n",
              "      <td>Tokyo</td>\n",
              "      <td>2020</td>\n",
              "      <td>100m</td>\n",
              "      <td>Costas</td>\n",
              "      <td>0</td>\n",
              "      <td>Masculino</td>\n",
              "      <td>ITA</td>\n",
              "      <td>Thomas Ceccon</td>\n",
              "      <td>52.3</td>\n",
              "      <td>4</td>\n",
              "    </tr>\n",
              "    <tr>\n",
              "      <th>4</th>\n",
              "      <td>Tokyo</td>\n",
              "      <td>2020</td>\n",
              "      <td>100m</td>\n",
              "      <td>Costas</td>\n",
              "      <td>0</td>\n",
              "      <td>Masculino</td>\n",
              "      <td>CHN</td>\n",
              "      <td>Jiayu Xu</td>\n",
              "      <td>52.51</td>\n",
              "      <td>4</td>\n",
              "    </tr>\n",
              "    <tr>\n",
              "      <th>...</th>\n",
              "      <td>...</td>\n",
              "      <td>...</td>\n",
              "      <td>...</td>\n",
              "      <td>...</td>\n",
              "      <td>...</td>\n",
              "      <td>...</td>\n",
              "      <td>...</td>\n",
              "      <td>...</td>\n",
              "      <td>...</td>\n",
              "      <td>...</td>\n",
              "    </tr>\n",
              "    <tr>\n",
              "      <th>4354</th>\n",
              "      <td>Stockholm</td>\n",
              "      <td>1912</td>\n",
              "      <td>4x100</td>\n",
              "      <td>Livre</td>\n",
              "      <td>1</td>\n",
              "      <td>Feminino</td>\n",
              "      <td>SWE</td>\n",
              "      <td>Greta Carlsson, Vera Thulin, Sonja Johnsson, G...</td>\n",
              "      <td>NaN</td>\n",
              "      <td>5</td>\n",
              "    </tr>\n",
              "    <tr>\n",
              "      <th>4355</th>\n",
              "      <td>Stockholm</td>\n",
              "      <td>1912</td>\n",
              "      <td>4x200</td>\n",
              "      <td>Livre</td>\n",
              "      <td>1</td>\n",
              "      <td>Masculino</td>\n",
              "      <td>AUS</td>\n",
              "      <td>Malcolm Champion, Cecil Healy, Harold H. Hardw...</td>\n",
              "      <td>00:10:11.200000</td>\n",
              "      <td>1</td>\n",
              "    </tr>\n",
              "    <tr>\n",
              "      <th>4356</th>\n",
              "      <td>Stockholm</td>\n",
              "      <td>1912</td>\n",
              "      <td>4x200</td>\n",
              "      <td>Livre</td>\n",
              "      <td>1</td>\n",
              "      <td>Masculino</td>\n",
              "      <td>USA</td>\n",
              "      <td>Duke Paoa Kahanamoku, Harry J. Hebner, Perry M...</td>\n",
              "      <td>00:10:20.200000</td>\n",
              "      <td>2</td>\n",
              "    </tr>\n",
              "    <tr>\n",
              "      <th>4357</th>\n",
              "      <td>Stockholm</td>\n",
              "      <td>1912</td>\n",
              "      <td>4x200</td>\n",
              "      <td>Livre</td>\n",
              "      <td>1</td>\n",
              "      <td>Masculino</td>\n",
              "      <td>GBR</td>\n",
              "      <td>Thomas Sidney Battersby, Henry Taylor, John Ga...</td>\n",
              "      <td>00:10:28.600000</td>\n",
              "      <td>3</td>\n",
              "    </tr>\n",
              "    <tr>\n",
              "      <th>4358</th>\n",
              "      <td>Stockholm</td>\n",
              "      <td>1912</td>\n",
              "      <td>4x200</td>\n",
              "      <td>Livre</td>\n",
              "      <td>1</td>\n",
              "      <td>Masculino</td>\n",
              "      <td>GER</td>\n",
              "      <td>Georg Kunisch, Kurt Bretting, Oscar Schiele, M...</td>\n",
              "      <td>00:10:37.000000</td>\n",
              "      <td>4</td>\n",
              "    </tr>\n",
              "  </tbody>\n",
              "</table>\n",
              "<p>4359 rows × 10 columns</p>\n",
              "</div>\n",
              "      <button class=\"colab-df-convert\" onclick=\"convertToInteractive('df-01f114d1-062b-4c50-ad72-45c0a804ec9d')\"\n",
              "              title=\"Convert this dataframe to an interactive table.\"\n",
              "              style=\"display:none;\">\n",
              "        \n",
              "  <svg xmlns=\"http://www.w3.org/2000/svg\" height=\"24px\"viewBox=\"0 0 24 24\"\n",
              "       width=\"24px\">\n",
              "    <path d=\"M0 0h24v24H0V0z\" fill=\"none\"/>\n",
              "    <path d=\"M18.56 5.44l.94 2.06.94-2.06 2.06-.94-2.06-.94-.94-2.06-.94 2.06-2.06.94zm-11 1L8.5 8.5l.94-2.06 2.06-.94-2.06-.94L8.5 2.5l-.94 2.06-2.06.94zm10 10l.94 2.06.94-2.06 2.06-.94-2.06-.94-.94-2.06-.94 2.06-2.06.94z\"/><path d=\"M17.41 7.96l-1.37-1.37c-.4-.4-.92-.59-1.43-.59-.52 0-1.04.2-1.43.59L10.3 9.45l-7.72 7.72c-.78.78-.78 2.05 0 2.83L4 21.41c.39.39.9.59 1.41.59.51 0 1.02-.2 1.41-.59l7.78-7.78 2.81-2.81c.8-.78.8-2.07 0-2.86zM5.41 20L4 18.59l7.72-7.72 1.47 1.35L5.41 20z\"/>\n",
              "  </svg>\n",
              "      </button>\n",
              "      \n",
              "  <style>\n",
              "    .colab-df-container {\n",
              "      display:flex;\n",
              "      flex-wrap:wrap;\n",
              "      gap: 12px;\n",
              "    }\n",
              "\n",
              "    .colab-df-convert {\n",
              "      background-color: #E8F0FE;\n",
              "      border: none;\n",
              "      border-radius: 50%;\n",
              "      cursor: pointer;\n",
              "      display: none;\n",
              "      fill: #1967D2;\n",
              "      height: 32px;\n",
              "      padding: 0 0 0 0;\n",
              "      width: 32px;\n",
              "    }\n",
              "\n",
              "    .colab-df-convert:hover {\n",
              "      background-color: #E2EBFA;\n",
              "      box-shadow: 0px 1px 2px rgba(60, 64, 67, 0.3), 0px 1px 3px 1px rgba(60, 64, 67, 0.15);\n",
              "      fill: #174EA6;\n",
              "    }\n",
              "\n",
              "    [theme=dark] .colab-df-convert {\n",
              "      background-color: #3B4455;\n",
              "      fill: #D2E3FC;\n",
              "    }\n",
              "\n",
              "    [theme=dark] .colab-df-convert:hover {\n",
              "      background-color: #434B5C;\n",
              "      box-shadow: 0px 1px 3px 1px rgba(0, 0, 0, 0.15);\n",
              "      filter: drop-shadow(0px 1px 2px rgba(0, 0, 0, 0.3));\n",
              "      fill: #FFFFFF;\n",
              "    }\n",
              "  </style>\n",
              "\n",
              "      <script>\n",
              "        const buttonEl =\n",
              "          document.querySelector('#df-01f114d1-062b-4c50-ad72-45c0a804ec9d button.colab-df-convert');\n",
              "        buttonEl.style.display =\n",
              "          google.colab.kernel.accessAllowed ? 'block' : 'none';\n",
              "\n",
              "        async function convertToInteractive(key) {\n",
              "          const element = document.querySelector('#df-01f114d1-062b-4c50-ad72-45c0a804ec9d');\n",
              "          const dataTable =\n",
              "            await google.colab.kernel.invokeFunction('convertToInteractive',\n",
              "                                                     [key], {});\n",
              "          if (!dataTable) return;\n",
              "\n",
              "          const docLinkHtml = 'Like what you see? Visit the ' +\n",
              "            '<a target=\"_blank\" href=https://colab.research.google.com/notebooks/data_table.ipynb>data table notebook</a>'\n",
              "            + ' to learn more about interactive tables.';\n",
              "          element.innerHTML = '';\n",
              "          dataTable['output_type'] = 'display_data';\n",
              "          await google.colab.output.renderOutput(dataTable, element);\n",
              "          const docLink = document.createElement('div');\n",
              "          docLink.innerHTML = docLinkHtml;\n",
              "          element.appendChild(docLink);\n",
              "        }\n",
              "      </script>\n",
              "    </div>\n",
              "  </div>\n",
              "  "
            ]
          },
          "metadata": {},
          "execution_count": 6
        }
      ]
    },
    {
      "cell_type": "markdown",
      "source": [
        "Pergunta 1:\n",
        "\n",
        "Sede = Qualitativa Categórica\n",
        "\n",
        "Ano = Quantitativa Continua\n",
        "\n",
        "Distancia = Quantitativa Continua\n",
        "\n",
        "Estilo = Qualitativa Categórica\n",
        "\n",
        "Revesamento = Qualitativa Ordinal\n",
        "\n",
        "Genero = Qualitativa Categórica\n",
        "\n",
        "Equipe = Qualitativa Categórica\n",
        "\n",
        "Atleta = Quantitativa Categórica\n",
        "\n",
        "Tempo = Quantitativas Continua\n",
        "\n",
        "Posicao = Qualitativa Ordinais"
      ],
      "metadata": {
        "id": "kIo1FGyeKovm"
      }
    },
    {
      "cell_type": "markdown",
      "source": [
        "Pergunta 1:\n",
        "\n",
        "Sede = Moda, porque é usada em variaveis de categorias, com o intuito de ver a que mais se repete.\n",
        "\n",
        "Ano = Média, ela é geralmente usada em dados continuos.\n",
        "\n",
        "Distancia = Média, ela é geralmente usada em dados continuos.\n",
        "\n",
        "Estilo = Moda, porque é usada em variaveis de categorias, com o intuito de ver a que mais se repete.\n",
        "\n",
        "Revesamento = Moda, porque é usada em variaveis de categorias, com o intuito de ver a que mais se repete.\n",
        "\n",
        "Genero = Moda, porque é usada em variaveis de categorias, com o intuito de ver a que mais se repete.\n",
        "\n",
        "Equipe = Moda, porque é usada em variaveis de categorias, com o intuito de ver a que mais se repete.\n",
        "\n",
        "Atleta = Moda, porque é usada em variaveis de categorias, com o intuito de ver a que mais se repete.\n",
        "\n",
        "Tempo = Média, ela é geralmente usada em dados continuos.\n",
        "\n",
        "Posicao = Moda ou Mediana, que ambas servem para resultados diferentes.\n"
      ],
      "metadata": {
        "id": "iWl8m8uNPGFu"
      }
    },
    {
      "cell_type": "code",
      "source": [
        "dadosOrdemDesc = dados.sort_values(by='Estilo', ascending=False);\n",
        "partDescMasc = dadosOrdemDesc[dadosOrdemDesc['Genero'] == 'Masculino']\n",
        "atletaComMaiorParticipacao = partDescMasc.iloc[0]['Atleta']\n",
        "atletaComMaiorParticipacao"
      ],
      "metadata": {
        "colab": {
          "base_uri": "https://localhost:8080/",
          "height": 36
        },
        "id": "tViM-B62S-A3",
        "outputId": "622cb3ed-5fa0-499c-926a-4b5e29b80834"
      },
      "execution_count": null,
      "outputs": [
        {
          "output_type": "execute_result",
          "data": {
            "text/plain": [
              "'Thomas Edwin Bruce'"
            ],
            "application/vnd.google.colaboratory.intrinsic+json": {
              "type": "string"
            }
          },
          "metadata": {},
          "execution_count": 21
        }
      ]
    },
    {
      "cell_type": "code",
      "source": [
        "dadosOrdemDesc = dados.sort_values(by='Estilo', ascending=False);\n",
        "partDescMasc = dadosOrdemDesc[dadosOrdemDesc['Genero'] == 'Feminino']\n",
        "atletaComMaiorParticipacao = partDescMasc.iloc[0]['Atleta']\n",
        "atletaComMaiorParticipacao"
      ],
      "metadata": {
        "colab": {
          "base_uri": "https://localhost:8080/",
          "height": 36
        },
        "id": "2Yycn-7YWLYV",
        "outputId": "63512817-6a53-469f-980f-ece5d3c01856"
      },
      "execution_count": null,
      "outputs": [
        {
          "output_type": "execute_result",
          "data": {
            "text/plain": [
              "'Barbara Göbel'"
            ],
            "application/vnd.google.colaboratory.intrinsic+json": {
              "type": "string"
            }
          },
          "metadata": {},
          "execution_count": 22
        }
      ]
    },
    {
      "cell_type": "code",
      "source": [
        "medalBronze = dados.loc[dados['Posicao'] == 3]\n",
        "medalBronze['Equipe'].mode()"
      ],
      "metadata": {
        "colab": {
          "base_uri": "https://localhost:8080/"
        },
        "id": "ayeD6sfZWWU0",
        "outputId": "59a2bf37-0320-4233-bf7e-1e5555105bb5"
      },
      "execution_count": null,
      "outputs": [
        {
          "output_type": "execute_result",
          "data": {
            "text/plain": [
              "0    USA\n",
              "Name: Equipe, dtype: object"
            ]
          },
          "metadata": {},
          "execution_count": 54
        }
      ]
    },
    {
      "cell_type": "code",
      "source": [],
      "metadata": {
        "id": "fIK8LiG7c4g4"
      },
      "execution_count": null,
      "outputs": []
    },
    {
      "cell_type": "code",
      "source": [],
      "metadata": {
        "id": "9bgYSF9pc4pg"
      },
      "execution_count": null,
      "outputs": []
    },
    {
      "cell_type": "markdown",
      "source": [
        "Pergunta 8:\n",
        "\n",
        "Conclusão 1: As atletas do genero feminino desde 1920 são mais rapidas do que do genero massculino.\n",
        "\n",
        "Concluão 2: Conforme foi passando os anos os atletas do genero masculino diminuiram a diferença de tempo das atletas do genero feminino.\n",
        "\n",
        "Conclusão 3: Conforme os anos foi se passando o tempo foi melhorando drasticamente para ambos os generos.\n",
        "\n",
        "Conclusão 4: O tempo em anos que os atletas do genero masculino levaram para melhorar o tempo na nos 100m foi melhor do que do genero feminino.\n",
        "\n",
        "Conclusão 5: Enquanto os atletas do genero masculino continuam melhorando o seu tempo na modalidade, as atletas do genero feminino estabilizaram sem continuar melhorando no final do grafico.\n",
        "\n",
        "Conclusão: Ambos os generos tiveram anos que pioravam o tempo na modalidade."
      ],
      "metadata": {
        "id": "8rM9wftIdRcA"
      }
    }
  ]
}